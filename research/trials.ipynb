{
 "cells": [
  {
   "cell_type": "code",
   "execution_count": 2,
   "metadata": {
    "collapsed": true,
    "pycharm": {
     "is_executing": true
    }
   },
   "outputs": [
    {
     "name": "stdout",
     "output_type": "stream",
     "text": [
      "10\n"
     ]
    }
   ],
   "source": [
    "import os\n",
    "g=10\n",
    "print(g)"
   ]
  },
  {
   "cell_type": "code",
   "execution_count": 3,
   "metadata": {
    "collapsed": false
   },
   "outputs": [
    {
     "data": {
      "text/plain": [
       "'k:\\\\New folder\\\\skin-disease-classification-system\\\\research'"
      ]
     },
     "execution_count": 3,
     "metadata": {},
     "output_type": "execute_result"
    }
   ],
   "source": [
    "%pwd"
   ]
  },
  {
   "cell_type": "code",
   "execution_count": null,
   "outputs": [],
   "source": [],
   "metadata": {
    "collapsed": false
   }
  },
  {
   "cell_type": "code",
   "execution_count": null,
   "outputs": [],
   "source": [
    "from dataclasses import dataclass\n",
    "from pathlib import Path\n",
    "\n",
    "# @dataclass(frozen=True)\n",
    "# class DataIngestionConfig:\n",
    "#     root_dir: Path\n",
    "#     source_URL: str\n",
    "#     local_data_file: Path\n",
    "#     unzip_dir: Path\n"
   ],
   "metadata": {
    "collapsed": false,
    "pycharm": {
     "is_executing": true
    }
   }
  },
  {
   "cell_type": "code",
   "execution_count": null,
   "outputs": [],
   "source": [
    "# from vgg16classifier.constants import*\n",
    "# from vgg16classifier.utils.common import read_yaml, create_directories\n",
    "#\n",
    "# class ConfigurationManager:\n",
    "#     def __init__(\n",
    "#         self,\n",
    "#         config_filepath = CONFIG_FILE_PATH,\n",
    "#         params_filepath = PARAMS_FILE_PATH):\n",
    "#\n",
    "#         self.config = read_yaml(config_filepath)\n",
    "#         self.params = read_yaml(params_filepath)\n",
    "#\n",
    "#         create_directories([self.config.artifacts_root])\n",
    "#\n",
    "#\n",
    "#\n",
    "#     def get_data_ingestion_config(self) -> DataIngestionConfig:\n",
    "#         config = self.config.data_ingestion\n",
    "#\n",
    "#         create_directories([config.root_dir])\n",
    "#\n",
    "#         data_ingestion_config = DataIngestionConfig(\n",
    "#             root_dir=config.root_dir,\n",
    "#             source_URL=config.source_URL,\n",
    "#             local_data_file=config.local_data_file,\n",
    "#             unzip_dir=config.unzip_dir\n",
    "#         )\n",
    "#\n",
    "#         return data_ingestion_config"
   ],
   "metadata": {
    "collapsed": false
   }
  },
  {
   "cell_type": "code",
   "execution_count": null,
   "metadata": {},
   "outputs": [],
   "source": [
    "import os\n",
    "import urllib.request as request\n",
    "import zipfile\n",
    "from vgg16classifier import logger\n",
    "from vgg16classifier.utils.common import get_size\n",
    "from pathlib import Path\n",
    "# class DataIngestion:\n",
    "#     def __init__(self, config: DataIngestionConfig):\n",
    "#         self.config = config\n",
    "#\n",
    "#\n",
    "#\n",
    "#     def download_file(self):\n",
    "#         if not os.path.exists(self.config.local_data_file):\n",
    "#             filename, headers = request.urlretrieve(\n",
    "#                 url = self.config.source_URL,\n",
    "#                 filename = self.config.local_data_file\n",
    "#             )\n",
    "#             logger.info(f\"{filename} download! with following info: \\n{headers}\")\n",
    "#         else:\n",
    "#             logger.info(f\"File already exists of size: {get_size(Path(self.config.local_data_file))}\")\n",
    "#\n",
    "#\n",
    "#\n",
    "#     def extract_zip_file(self):\n",
    "#         \"\"\"\n",
    "#         zip_file_path: str\n",
    "#         Extracts the zip file into the data directory\n",
    "#         Function returns None\n",
    "#         \"\"\"\n",
    "#         unzip_path = self.config.unzip_dir\n",
    "#         os.makedirs(unzip_path, exist_ok=True)\n",
    "#         with zipfile.ZipFile(self.config.local_data_file, 'r') as zip_ref:\n",
    "#             zip_ref.extractall(unzip_path)\n",
    "#\n"
   ]
  },
  {
   "cell_type": "code",
   "execution_count": null,
   "outputs": [],
   "source": [
    "from vgg16classifier.constants import*\n",
    "from vgg16classifier.utils.common import read_yaml, create_directories\n",
    "\n",
    "class ConfigurationManager:\n",
    "    def __init__(\n",
    "        self,\n",
    "        config_filepath = CONFIG_FILE_PATH,\n",
    "        params_filepath = PARAMS_FILE_PATH):\n",
    "\n",
    "        self.config = read_yaml(config_filepath)\n",
    "        self.params = read_yaml(params_filepath)\n",
    "\n",
    "        create_directories([self.config.artifacts_root])\n",
    "\n",
    "    def get_prepare_base_model_config(self) -> PrepareBaseModelConfig:\n",
    "        config = self.config.prepare_base_model\n",
    "\n",
    "        create_directories([config.root_dir])\n",
    "\n",
    "        prepare_base_model_config = PrepareBaseModelConfig(\n",
    "            root_dir=Path(config.root_dir),\n",
    "            base_model_path=Path(config.base_model_path),\n",
    "            updated_base_model_path=Path(config.updated_base_model_path),\n",
    "            params_image_size=self.params.IMAGE_SIZE,\n",
    "            params_learning_rate=self.params.LEARNING_RATE,\n",
    "            params_include_top=self.params.INCLUDE_TOP,\n",
    "            params_weights=self.params.WEIGHTS,\n",
    "            params_classes=self.params.CLASSES\n",
    "        )\n",
    "\n",
    "        return prepare_base_model_config\n",
    "\n",
    "\n"
   ],
   "metadata": {
    "collapsed": false
   }
  }
 ],
 "metadata": {
  "kernelspec": {
   "display_name": "Python 3",
   "language": "python",
   "name": "python3"
  },
  "language_info": {
   "codemirror_mode": {
    "name": "ipython",
    "version": 3
   },
   "file_extension": ".py",
   "mimetype": "text/x-python",
   "name": "python",
   "nbconvert_exporter": "python",
   "pygments_lexer": "ipython3",
   "version": "3.10.11"
  }
 },
 "nbformat": 4,
 "nbformat_minor": 0
}
